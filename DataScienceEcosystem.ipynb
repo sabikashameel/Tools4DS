{
  "nbformat": 4,
  "nbformat_minor": 0,
  "metadata": {
    "colab": {
      "provenance": []
    },
    "kernelspec": {
      "name": "python3",
      "display_name": "Python 3"
    },
    "language_info": {
      "name": "python"
    }
  },
  "cells": [
    {
      "cell_type": "markdown",
      "source": [
        "# Data Science Tools and Ecosystem"
      ],
      "metadata": {
        "id": "CROpmg-bLTLw"
      }
    },
    {
      "cell_type": "markdown",
      "source": [
        "### In this notebook, Data Science Tools and Ecosystem are summarized."
      ],
      "metadata": {
        "id": "egeoi2J_Mp0T"
      }
    },
    {
      "cell_type": "markdown",
      "source": [
        "**Objectives:**\n",
        "\n",
        "* Popular Languages that data scientist uses\n",
        "* Commonly used pyhton libraries\n",
        "* Open Source tools for data science\n",
        "* Jupyter Notebook & Lab\n",
        "* Git & Github\n"
      ],
      "metadata": {
        "id": "dB-CSe0-dtZb"
      }
    },
    {
      "cell_type": "markdown",
      "source": [
        "## Author\n",
        "Sabika S"
      ],
      "metadata": {
        "id": "vBmrol1AUt7Y"
      }
    },
    {
      "cell_type": "markdown",
      "source": [
        "### Some of the popular languages that Data Scientists use are:\n",
        "1. Python\n",
        "2. R\n",
        "3. Julia\n",
        "4. SQL\n",
        "5. Java"
      ],
      "metadata": {
        "id": "js602iAGNLmM"
      }
    },
    {
      "cell_type": "markdown",
      "source": [
        "### Some of the commonly used libraries used by Data Scientists include:\n",
        "\n",
        "1. Numpy\n",
        "2. Matplotlib\n",
        "3. Pandas\n",
        "4. Scikit Learn\n",
        "5. Tensorflow\n",
        "6. OpenCV"
      ],
      "metadata": {
        "id": "ilTYwzJ9PKgk"
      }
    },
    {
      "cell_type": "markdown",
      "source": [
        "| Data Science Tools |\n",
        "------------------------\n",
        "| R Studio |\n",
        "| Apache Spark |\n",
        "| TensorFlow |\n",
        "| Jupyter Notebooks |\n",
        "| R Studio |\n",
        "| RapidMiner |\n"
      ],
      "metadata": {
        "id": "5pmsY1T-SnjS"
      }
    },
    {
      "cell_type": "markdown",
      "source": [
        "### Below are a few examples of evaluating arithmetic expressions in Python"
      ],
      "metadata": {
        "id": "s4sLxlZyagv7"
      }
    },
    {
      "cell_type": "code",
      "source": [
        "# This a simple arithmetic expression to mutiply then add integers\n",
        "(3*4)+5"
      ],
      "metadata": {
        "colab": {
          "base_uri": "https://localhost:8080/"
        },
        "id": "h9LRmD4xbBv-",
        "outputId": "b1148f89-a6b7-49ea-b5f1-78141298a74a"
      },
      "execution_count": 2,
      "outputs": [
        {
          "output_type": "execute_result",
          "data": {
            "text/plain": [
              "17"
            ]
          },
          "metadata": {},
          "execution_count": 2
        }
      ]
    },
    {
      "cell_type": "code",
      "source": [
        "# This will convert 200 minutes to hours by diving by 60\n",
        "200 / 60"
      ],
      "metadata": {
        "colab": {
          "base_uri": "https://localhost:8080/"
        },
        "id": "hT_MbU5Sbvje",
        "outputId": "ed37037f-764a-4558-8ee3-872d5671841e"
      },
      "execution_count": 3,
      "outputs": [
        {
          "output_type": "execute_result",
          "data": {
            "text/plain": [
              "3.3333333333333335"
            ]
          },
          "metadata": {},
          "execution_count": 3
        }
      ]
    }
  ]
}